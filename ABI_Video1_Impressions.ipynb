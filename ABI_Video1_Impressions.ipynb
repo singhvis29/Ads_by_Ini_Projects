{
  "nbformat": 4,
  "nbformat_minor": 0,
  "metadata": {
    "colab": {
      "provenance": [],
      "authorship_tag": "ABX9TyMPOFXCHgBsiRZGsL4br855",
      "include_colab_link": true
    },
    "kernelspec": {
      "name": "python3",
      "display_name": "Python 3"
    },
    "language_info": {
      "name": "python"
    }
  },
  "cells": [
    {
      "cell_type": "markdown",
      "metadata": {
        "id": "view-in-github",
        "colab_type": "text"
      },
      "source": [
        "<a href=\"https://colab.research.google.com/github/singhvis29/Ads_by_Ini_Projects/blob/main/ABI_Video1_Impressions.ipynb\" target=\"_parent\"><img src=\"https://colab.research.google.com/assets/colab-badge.svg\" alt=\"Open In Colab\"/></a>"
      ]
    },
    {
      "cell_type": "code",
      "execution_count": null,
      "metadata": {
        "id": "9vyrM6jdESH0"
      },
      "outputs": [],
      "source": [
        "from google.colab import drive\n",
        "drive.mount('/content/drive')"
      ]
    },
    {
      "cell_type": "code",
      "source": [
        "import cv2\n",
        "import numpy as np\n",
        "import os"
      ],
      "metadata": {
        "id": "EBlMW1GuNPo-"
      },
      "execution_count": null,
      "outputs": []
    },
    {
      "cell_type": "code",
      "source": [
        "import math\n",
        "\n",
        "from PIL import Image\n",
        "import requests\n",
        "import matplotlib.pyplot as plt\n",
        "%config InlineBackend.figure_format = 'retina'\n",
        "\n",
        "import ipywidgets as widgets\n",
        "from IPython.display import display, clear_output\n",
        "\n",
        "import torch\n",
        "from torch import nn\n",
        "from torchvision.models import resnet50\n",
        "import torchvision.transforms as T\n",
        "torch.set_grad_enabled(False);"
      ],
      "metadata": {
        "id": "qp8U9EhOJocr"
      },
      "execution_count": null,
      "outputs": []
    },
    {
      "cell_type": "code",
      "source": [
        "import os\n",
        "import cv2\n",
        "import torch\n",
        "from transformers import DetrImageProcessor, DetrForObjectDetection\n",
        "from collections import defaultdict\n",
        "from tqdm import tqdm\n",
        "from sort.sort import Sort   # pip install sort-tracker"
      ],
      "metadata": {
        "id": "QRR-XuGbNI-t"
      },
      "execution_count": null,
      "outputs": []
    },
    {
      "cell_type": "markdown",
      "source": [
        "### Read Video and save it as frames"
      ],
      "metadata": {
        "id": "EodlQaD2NRoc"
      }
    },
    {
      "cell_type": "code",
      "source": [
        "video_path = '/content/drive/MyDrive/Projects/Ads_by_Ini/clip_1.mp4'\n",
        "output_folder = '/content/drive/MyDrive/Projects/Ads_by_Ini/frames'"
      ],
      "metadata": {
        "id": "idP4v-_NODrg"
      },
      "execution_count": null,
      "outputs": []
    },
    {
      "cell_type": "code",
      "metadata": {
        "colab": {
          "base_uri": "https://localhost:8080/"
        },
        "id": "a155ca41",
        "outputId": "9295d43f-c5c3-406b-f24d-8e87945da5da"
      },
      "source": [
        "\n",
        "\n",
        "# Create the output folder if it doesn't exist\n",
        "if not os.path.exists(output_folder):\n",
        "    os.makedirs(output_folder)\n",
        "\n",
        "# Create a VideoCapture object\n",
        "cap = cv2.VideoCapture(video_path)\n",
        "\n",
        "# Check if video opened successfully\n",
        "if (cap.isOpened() == False):\n",
        "    print(\"Error opening video file\")\n",
        "\n",
        "# Print number of frame\n",
        "print('Number of Frames:', cap.get(cv2.CAP_PROP_FPS))\n",
        "\n",
        "# Read until video is completed\n",
        "while(cap.isOpened()):\n",
        "    # Capture frame-by-frame\n",
        "    ret, frame = cap.read()\n",
        "\n",
        "    if ret == True:\n",
        "        # Construct the output file path\n",
        "        output_path = os.path.join(output_folder, 'frame_' + str(int(cap.get(cv2.CAP_PROP_POS_FRAMES))) + '.png')\n",
        "\n",
        "        # Save the resulting frame\n",
        "        cv2.imwrite(output_path, frame)\n",
        "\n",
        "        # Press Q on keyboard to exit\n",
        "        if cv2.waitKey(25) & 0xFF == ord('q'):\n",
        "            break\n",
        "    # Break the loop\n",
        "    else:\n",
        "        break\n",
        "\n",
        "# When everything done, release the video capture object\n",
        "cap.release()\n",
        "\n",
        "# Closes all the frames\n",
        "# cv2.destroyAllWindows() # This will not work in Colab directly\n",
        "\n",
        "print(\"Video processing complete.\")"
      ],
      "execution_count": null,
      "outputs": [
        {
          "output_type": "stream",
          "name": "stdout",
          "text": [
            "59.94005994005994\n"
          ]
        }
      ]
    },
    {
      "cell_type": "markdown",
      "source": [
        "### Load Models"
      ],
      "metadata": {
        "id": "grhqZ93bNbG7"
      }
    },
    {
      "cell_type": "code",
      "source": [
        "model = torch.hub.load('facebookresearch/detr', 'detr_resnet50', pretrained=True)\n",
        "model.eval();"
      ],
      "metadata": {
        "id": "r0kSIh_gG_9F"
      },
      "execution_count": null,
      "outputs": []
    },
    {
      "cell_type": "markdown",
      "source": [
        "### Impressions"
      ],
      "metadata": {
        "id": "-uqL9hijNdGZ"
      }
    },
    {
      "cell_type": "code",
      "source": [
        "\n",
        "\n",
        "# Load pretrained DETR\n",
        "processor = DetrImageProcessor.from_pretrained(\"facebook/detr-resnet-50\")\n",
        "model = DetrForObjectDetection.from_pretrained(\"facebook/detr-resnet-50\")\n",
        "\n",
        "# Tracker\n",
        "tracker = Sort(max_age=5, min_hits=2, iou_threshold=0.3)\n",
        "\n",
        "# Threshold for detections\n",
        "THRESHOLD = 0.7\n",
        "\n",
        "# Frames path\n",
        "frames_folder = output_folder\n",
        "frame_files = sorted(os.listdir(frames_folder))\n",
        "\n",
        "FPS = 60.0\n",
        "\n",
        "# Store object tracks\n",
        "object_tracks = defaultdict(list)\n",
        "\n",
        "for frame_id, file in tqdm(enumerate(frame_files), total=len(frame_files)):\n",
        "    frame_path = os.path.join(frames_folder, file)\n",
        "    frame = cv2.imread(frame_path)\n",
        "\n",
        "    inputs = processor(images=frame, return_tensors=\"pt\")\n",
        "    outputs = model(**inputs)\n",
        "\n",
        "    target_sizes = torch.tensor([frame.shape[:2]])\n",
        "    results = processor.post_process_object_detection(outputs, target_sizes=target_sizes, threshold=THRESHOLD)[0]\n",
        "\n",
        "    detections = []\n",
        "    class_map = {}\n",
        "\n",
        "    # Prepare detections in SORT format: [x1, y1, x2, y2, score]\n",
        "    for score, label, box in zip(results[\"scores\"], results[\"labels\"], results[\"boxes\"]):\n",
        "        cls = model.config.id2label[label.item()]\n",
        "        xmin, ymin, xmax, ymax = box.tolist()\n",
        "        detections.append([xmin, ymin, xmax, ymax, float(score)])\n",
        "        class_map[(xmin, ymin, xmax, ymax)] = cls\n",
        "\n",
        "    if len(detections) > 0:\n",
        "        detections = torch.tensor(detections)\n",
        "        tracked = tracker.update(detections.numpy())\n",
        "    else:\n",
        "        tracked = []\n",
        "\n",
        "    timestamp = frame_id / FPS\n",
        "\n",
        "    for x1, y1, x2, y2, track_id in tracked:\n",
        "        # Match track bbox with class\n",
        "        cls = None\n",
        "        for b, c in class_map.items():\n",
        "            if abs(b[0]-x1)<5 and abs(b[1]-y1)<5:\n",
        "                cls = c\n",
        "                break\n",
        "        if cls is None:\n",
        "            cls = \"unknown\"\n",
        "\n",
        "        area = (x2 - x1) * (y2 - y1)\n",
        "        distance_est = 1 / (area + 1e-6)\n",
        "\n",
        "        object_tracks[(cls, int(track_id))].append({\n",
        "            \"frame\": frame_id,\n",
        "            \"time\": timestamp,\n",
        "            \"bbox\": [float(x1), float(y1), float(x2), float(y2)],\n",
        "            \"distance_est\": distance_est\n",
        "        })\n",
        "\n",
        "# --- Summarize grouped by class ---\n",
        "summary = defaultdict(list)\n",
        "\n",
        "for (cls, track_id), entries in object_tracks.items():\n",
        "    duration = (entries[-1][\"time\"] - entries[0][\"time\"]) if len(entries) > 1 else 1/FPS\n",
        "    avg_distance = sum(e[\"distance_est\"] for e in entries) / len(entries)\n",
        "\n",
        "    summary[cls].append({\n",
        "        \"track_id\": track_id,\n",
        "        \"duration_sec\": duration,\n",
        "        \"avg_distance_est\": avg_distance\n",
        "    })\n",
        "\n",
        "# Print final summary\n",
        "print(\"\\nSummary grouped by class:\")\n",
        "for cls, objs in summary.items():\n",
        "    num_objs = len(objs)\n",
        "    avg_duration = sum(o[\"duration_sec\"] for o in objs) / num_objs\n",
        "    avg_distance = sum(o[\"avg_distance_est\"] for o in objs) / num_objs\n",
        "    print(f\"{cls}: {num_objs} objects, avg duration {avg_duration:.2f}s, avg distance proxy {avg_distance:.4f}\")\n"
      ],
      "metadata": {
        "id": "bsjcryWsHN7L"
      },
      "execution_count": null,
      "outputs": []
    }
  ]
}